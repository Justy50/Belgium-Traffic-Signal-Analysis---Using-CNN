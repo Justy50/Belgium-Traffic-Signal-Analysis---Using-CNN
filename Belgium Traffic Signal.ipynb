{
 "cells": [
  {
   "cell_type": "code",
   "execution_count": 1,
   "metadata": {},
   "outputs": [],
   "source": [
    "import tensorflow as tf\n",
    "from PIL import Image\n",
    "import os\n",
    "import numpy as np\n",
    "import matplotlib.pyplot as plt"
   ]
  },
  {
   "cell_type": "code",
   "execution_count": 3,
   "metadata": {},
   "outputs": [
    {
     "name": "stdout",
     "output_type": "stream",
     "text": [
      "Found 3683 images belonging to 62 classes.\n"
     ]
    }
   ],
   "source": [
    "### For training ,\n",
    "from tensorflow.keras.preprocessing.image import ImageDataGenerator  \n",
    "\n",
    "train_datagen=ImageDataGenerator(rescale=1./255,validation_split=0.2)   \n",
    "test_datagen=ImageDataGenerator(rescale=1./255)          \n",
    "\n",
    "path_train = \"C:/Users/justi/Neural Network Projects/Convolutional Neural Network/Traffic Signal Analysis/Training\"\n",
    "\n",
    "train_generator = train_datagen.flow_from_directory(directory=path_train,\n",
    "                                                        target_size=(60, 60),\n",
    "                                                        color_mode=\"grayscale\",\n",
    "                                                        batch_size=75,\n",
    "                                                        class_mode=\"sparse\",\n",
    "                                                        subset='training',\n",
    "                                                        seed=42)"
   ]
  },
  {
   "cell_type": "code",
   "execution_count": 4,
   "metadata": {},
   "outputs": [
    {
     "name": "stdout",
     "output_type": "stream",
     "text": [
      "Found 892 images belonging to 62 classes.\n"
     ]
    }
   ],
   "source": [
    "validation_generator = train_datagen.flow_from_directory(\n",
    "    directory=path_train,\n",
    "    target_size=(60, 60),\n",
    "    batch_size=75,\n",
    "    color_mode=\"grayscale\",\n",
    "    class_mode='sparse',\n",
    "    subset='validation') "
   ]
  },
  {
   "cell_type": "code",
   "execution_count": 5,
   "metadata": {},
   "outputs": [
    {
     "name": "stdout",
     "output_type": "stream",
     "text": [
      "Found 2520 images belonging to 62 classes.\n"
     ]
    }
   ],
   "source": [
    "path_test = \"C:/Users/justi/Neural Network Projects/Convolutional Neural Network/Traffic Signal Analysis/Testing\"\n",
    "\n",
    "test_generator = test_datagen.flow_from_directory(directory=path_test,\n",
    "                                                  target_size=(60, 60),\n",
    "                                                  color_mode=\"grayscale\",\n",
    "                                                  batch_size=1,\n",
    "                                                  class_mode=None,\n",
    "                                                  shuffle=False,\n",
    "                                                  seed=42\n",
    "                                                  )        "
   ]
  },
  {
   "cell_type": "code",
   "execution_count": 6,
   "metadata": {},
   "outputs": [],
   "source": [
    "from tensorflow.keras.layers import Conv2D\n",
    "from tensorflow.keras.layers import Dense\n",
    "from tensorflow.keras.layers import Dropout\n",
    "from tensorflow.keras.layers import MaxPooling2D\n",
    "from tensorflow.keras.initializers import he_uniform\n",
    "from tensorflow.keras.layers import Flatten\n",
    "from tensorflow.keras.models import Sequential\n",
    "from tensorflow.keras.layers import BatchNormalization"
   ]
  },
  {
   "cell_type": "code",
   "execution_count": 7,
   "metadata": {},
   "outputs": [
    {
     "name": "stdout",
     "output_type": "stream",
     "text": [
      "Model: \"sequential\"\n",
      "_________________________________________________________________\n",
      "Layer (type)                 Output Shape              Param #   \n",
      "=================================================================\n",
      "conv2d (Conv2D)              (None, 60, 60, 128)       1280      \n",
      "_________________________________________________________________\n",
      "batch_normalization (BatchNo (None, 60, 60, 128)       512       \n",
      "_________________________________________________________________\n",
      "max_pooling2d (MaxPooling2D) (None, 30, 30, 128)       0         \n",
      "_________________________________________________________________\n",
      "conv2d_1 (Conv2D)            (None, 30, 30, 64)        73792     \n",
      "_________________________________________________________________\n",
      "batch_normalization_1 (Batch (None, 30, 30, 64)        256       \n",
      "_________________________________________________________________\n",
      "max_pooling2d_1 (MaxPooling2 (None, 15, 15, 64)        0         \n",
      "_________________________________________________________________\n",
      "conv2d_2 (Conv2D)            (None, 15, 15, 32)        18464     \n",
      "_________________________________________________________________\n",
      "max_pooling2d_2 (MaxPooling2 (None, 7, 7, 32)          0         \n",
      "_________________________________________________________________\n",
      "flatten (Flatten)            (None, 1568)              0         \n",
      "_________________________________________________________________\n",
      "dense (Dense)                (None, 100)               156900    \n",
      "_________________________________________________________________\n",
      "batch_normalization_2 (Batch (None, 100)               400       \n",
      "_________________________________________________________________\n",
      "dropout (Dropout)            (None, 100)               0         \n",
      "_________________________________________________________________\n",
      "dense_1 (Dense)              (None, 50)                5050      \n",
      "_________________________________________________________________\n",
      "batch_normalization_3 (Batch (None, 50)                200       \n",
      "_________________________________________________________________\n",
      "dropout_1 (Dropout)          (None, 50)                0         \n",
      "_________________________________________________________________\n",
      "dense_2 (Dense)              (None, 62)                3162      \n",
      "=================================================================\n",
      "Total params: 260,016\n",
      "Trainable params: 259,332\n",
      "Non-trainable params: 684\n",
      "_________________________________________________________________\n"
     ]
    }
   ],
   "source": [
    "model=Sequential()\n",
    "model.add(Conv2D(128,(3,3),activation='relu',input_shape=(60,60,1),padding='same',kernel_initializer='he_uniform')) \n",
    "model.add(BatchNormalization())\n",
    "model.add(MaxPooling2D(2,2))\n",
    "model.add(Conv2D(64,(3,3),activation='relu',padding='same',kernel_initializer='he_uniform'))    \n",
    "model.add(BatchNormalization())\n",
    "model.add(MaxPooling2D(2,2))\n",
    "model.add(Conv2D(32,(3,3),activation='relu',padding='same',kernel_initializer='he_uniform'))    \n",
    "model.add(MaxPooling2D(2,2))\n",
    "model.add(Flatten())\n",
    "model.add(Dense(100,activation='relu',kernel_initializer='he_uniform'))\n",
    "model.add(BatchNormalization())\n",
    "model.add(Dropout(0.2)) \n",
    "model.add(Dense(50,activation='relu',kernel_initializer='he_uniform'))\n",
    "model.add(BatchNormalization())\n",
    "model.add(Dropout(0.2))\n",
    "model.add(Dense(62,activation='softmax'))     \n",
    "\n",
    "model.summary()"
   ]
  },
  {
   "cell_type": "code",
   "execution_count": 8,
   "metadata": {},
   "outputs": [
    {
     "name": "stdout",
     "output_type": "stream",
     "text": [
      "Epoch 1/10\n",
      "49/49 [==============================] - 165s 3s/step - loss: 3.2112 - accuracy: 0.2813 - val_loss: 3.2511 - val_accuracy: 0.3397\n",
      "Epoch 2/10\n",
      "49/49 [==============================] - 128s 3s/step - loss: 1.7897 - accuracy: 0.6353 - val_loss: 2.4755 - val_accuracy: 0.5482\n",
      "Epoch 3/10\n",
      "49/49 [==============================] - 142s 3s/step - loss: 1.2050 - accuracy: 0.7589 - val_loss: 2.0302 - val_accuracy: 0.5852\n",
      "Epoch 4/10\n",
      "49/49 [==============================] - 130s 3s/step - loss: 0.8741 - accuracy: 0.8240 - val_loss: 1.4527 - val_accuracy: 0.7007\n",
      "Epoch 5/10\n",
      "49/49 [==============================] - 149s 3s/step - loss: 0.6551 - accuracy: 0.8661 - val_loss: 1.1328 - val_accuracy: 0.7623\n",
      "Epoch 6/10\n",
      "49/49 [==============================] - 166s 3s/step - loss: 0.4958 - accuracy: 0.9052 - val_loss: 0.8844 - val_accuracy: 0.8105\n",
      "Epoch 7/10\n",
      "49/49 [==============================] - 139s 3s/step - loss: 0.3651 - accuracy: 0.9393 - val_loss: 0.7332 - val_accuracy: 0.8419\n",
      "Epoch 8/10\n",
      "49/49 [==============================] - 129s 3s/step - loss: 0.2934 - accuracy: 0.9465 - val_loss: 0.5117 - val_accuracy: 0.8655\n",
      "Epoch 9/10\n",
      "49/49 [==============================] - 126s 3s/step - loss: 0.2308 - accuracy: 0.9684 - val_loss: 0.6253 - val_accuracy: 0.8251\n",
      "Epoch 10/10\n",
      "49/49 [==============================] - 141s 3s/step - loss: 0.1619 - accuracy: 0.9836 - val_loss: 0.3847 - val_accuracy: 0.9036\n"
     ]
    }
   ],
   "source": [
    "model.compile(optimizer='adam', loss='sparse_categorical_crossentropy', metrics=['accuracy'])\n",
    "batch_size=75\n",
    "bs_model=model.fit(train_generator,steps_per_epoch=3683//batch_size,epochs=10,verbose=1,validation_data=validation_generator)"
   ]
  },
  {
   "cell_type": "code",
   "execution_count": 11,
   "metadata": {},
   "outputs": [
    {
     "name": "stdout",
     "output_type": "stream",
     "text": [
      "Loss for Validation Data : 0.3836861550807953\n",
      "Accuracy for Validation Data : 0.9054545164108276\n"
     ]
    }
   ],
   "source": [
    "#For validation set\n",
    "loss,acc=model.evaluate_generator(generator=validation_generator,steps=validation_generator.n//batch_size)\n",
    "print('Loss for Validation Data :',loss)\n",
    "print('Accuracy for Validation Data :',acc)"
   ]
  },
  {
   "cell_type": "code",
   "execution_count": 12,
   "metadata": {},
   "outputs": [
    {
     "name": "stdout",
     "output_type": "stream",
     "text": [
      "Loss for Test Data 0.3836861550807953\n",
      "Accuracy for Test Data 0.9054545164108276\n"
     ]
    }
   ],
   "source": [
    "#For test set\n",
    "scores=model.evaluate_generator(test_generator,steps=2520)\n",
    "print('Loss for Test Data',loss)\n",
    "print('Accuracy for Test Data',acc)"
   ]
  },
  {
   "cell_type": "code",
   "execution_count": 13,
   "metadata": {},
   "outputs": [
    {
     "name": "stdout",
     "output_type": "stream",
     "text": [
      "WARNING:tensorflow:From <ipython-input-13-4306e2c0bc82>:4: Model.predict_generator (from tensorflow.python.keras.engine.training) is deprecated and will be removed in a future version.\n",
      "Instructions for updating:\n",
      "Please use Model.predict, which supports generators.\n",
      "2520/2520 [==============================] - 20s 8ms/step\n",
      "(2520, 62)\n",
      "(2520,)\n"
     ]
    }
   ],
   "source": [
    "test_generator.reset()\n",
    "pred=model.predict_generator(test_generator,\n",
    "steps=2520,\n",
    "verbose=1)\n",
    "print(pred.shape)\n",
    "\n",
    "predicted_class_indices=np.argmax(pred,axis=1)\n",
    "print(predicted_class_indices.shape)"
   ]
  },
  {
   "cell_type": "code",
   "execution_count": 14,
   "metadata": {},
   "outputs": [
    {
     "name": "stdout",
     "output_type": "stream",
     "text": [
      "{'00000': 0, '00001': 1, '00002': 2, '00003': 3, '00004': 4, '00005': 5, '00006': 6, '00007': 7, '00008': 8, '00009': 9, '00010': 10, '00011': 11, '00012': 12, '00013': 13, '00014': 14, '00015': 15, '00016': 16, '00017': 17, '00018': 18, '00019': 19, '00020': 20, '00021': 21, '00022': 22, '00023': 23, '00024': 24, '00025': 25, '00026': 26, '00027': 27, '00028': 28, '00029': 29, '00030': 30, '00031': 31, '00032': 32, '00033': 33, '00034': 34, '00035': 35, '00036': 36, '00037': 37, '00038': 38, '00039': 39, '00040': 40, '00041': 41, '00042': 42, '00043': 43, '00044': 44, '00045': 45, '00046': 46, '00047': 47, '00048': 48, '00049': 49, '00050': 50, '00051': 51, '00052': 52, '00053': 53, '00054': 54, '00055': 55, '00056': 56, '00057': 57, '00058': 58, '00059': 59, '00060': 60, '00061': 61}\n"
     ]
    }
   ],
   "source": [
    "(test_generator.classes[:6])\n",
    "print(train_generator.class_indices)"
   ]
  },
  {
   "cell_type": "code",
   "execution_count": 15,
   "metadata": {},
   "outputs": [
    {
     "name": "stdout",
     "output_type": "stream",
     "text": [
      "Accuracy for test data is 0.9273809523809524\n"
     ]
    }
   ],
   "source": [
    "from sklearn.metrics import accuracy_score\n",
    "print('Accuracy for test data is', (accuracy_score(predicted_class_indices,test_generator.classes)))"
   ]
  },
  {
   "cell_type": "code",
   "execution_count": null,
   "metadata": {},
   "outputs": [],
   "source": []
  }
 ],
 "metadata": {
  "kernelspec": {
   "display_name": "Python 3",
   "language": "python",
   "name": "python3"
  },
  "language_info": {
   "codemirror_mode": {
    "name": "ipython",
    "version": 3
   },
   "file_extension": ".py",
   "mimetype": "text/x-python",
   "name": "python",
   "nbconvert_exporter": "python",
   "pygments_lexer": "ipython3",
   "version": "3.7.6"
  }
 },
 "nbformat": 4,
 "nbformat_minor": 4
}
